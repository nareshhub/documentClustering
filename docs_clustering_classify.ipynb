{
 "cells": [
  {
   "cell_type": "code",
   "execution_count": 1,
   "metadata": {},
   "outputs": [
    {
     "name": "stdout",
     "output_type": "stream",
     "text": [
      "C:\\Users\\owner\\Downloads\\udacCourses\\predAnalytics\\Clustering\n",
      "C:\\Users\\owner\\Downloads\\udacCourses\\predAnalytics\\Clustering\\CORPUS_ONE.txt\n",
      "C:\\Users\\owner\\Downloads\\udacCourses\\predAnalytics\\Clustering\\CORPUS_TWO.txt\n",
      "(1680, 3)\n",
      "(1674, 3)\n",
      "   id                                              title  \\\n",
      "0   1  Dust-Ion-Acoustic Solitary waves in a Magnetiz...   \n",
      "\n",
      "                                            abstract  \n",
      "0  The nonlinear dust-ion acoustic (DIA) solitary...  \n",
      "The nonlinear dust-ion acoustic (DIA) solitary structures have been studied in a dusty plasma including of the Cairns-Gurevich distribution for electrons, both negative and positive ions and immobile opposite polarity dust grains. The external magnetic field directed along the z-axis is considered. By using the standard reductive perturbation technique and the hydrodynamics model for the ion fluid, the modified Zakharov-Kuznetsov equation was derived for small but finite amplitude waves and was given the solitary wave solution for the parameters relevant. Using the appropriate the independent variable, we could find the modified Korteweg-de Vries equation. By plotting some figures, we have discussed and emphasized that how the different plasma values such as the trapping parameter, the nonthermal electron parameter and the ion cyclotron frequency can influence on the solitary wave structures. Also, by means of the bifurcation theory of planar dynamical systems, we have extracted the center and saddle points and illustrated the phase portrait of such system for some particular plasma parameters. Finally, we have investigated graphically the behavior of the solitary energy wave by changing the plasma values. The results could be useful for studying the physical mechanism of nonlinear propagation of DIA solitary waves in laboratory and space plasmas where nonthermal electrons, pair-ions and dust particles can be existed.\n"
     ]
    }
   ],
   "source": [
    "## IMPORT NECESSARY LIBRARIES\n",
    "import pandas as pd\n",
    "import os\n",
    "import re\n",
    "import nltk\n",
    "from nltk.stem import WordNetLemmatizer\n",
    "from nltk.corpus import stopwords\n",
    "import string\n",
    "import glob\n",
    "import matplotlib.pyplot as plt\n",
    "%matplotlib inline\n",
    "import numpy as np\n",
    "\n",
    "from sklearn.feature_extraction.text import TfidfVectorizer\n",
    "from sklearn.cluster import KMeans\n",
    "from sklearn.linear_model import *\n",
    "from sklearn.multiclass import *\n",
    "from sklearn.svm import *\n",
    "import warnings\n",
    "\n",
    "\n",
    "source=os.getcwd()\n",
    "print(source)\n",
    "\n",
    "videoVecDat_uid = pd.DataFrame()\n",
    "df = pd.DataFrame()\n",
    "list_=[]\n",
    "\n",
    "## IMPORT INPUT DATA\n",
    "files = glob.glob(source+\"/CORPUS_*.TXT\")\n",
    "for file in files:\n",
    "    print(file)\n",
    "    df_pre = pd.read_csv(file, delimiter = \"\\t\",names=[\"id\", \"title\", \"abstract\"],encoding='ISO-8859-1')\n",
    "    list_.append(df_pre)\n",
    "df = pd.concat(list_)\n",
    "\n",
    "print(df.shape)\n",
    "df = df.dropna(subset=['abstract'])\n",
    "## LOOK AT SAMPLE DATA\n",
    "print(df.shape)\n",
    "print(df.head(n=1))\n",
    "df_test = df.head(n=1)\n",
    "print(df_test[:1].abstract.tolist()[0])\n",
    "text=df_test[:1].abstract.tolist()[0]"
   ]
  },
  {
   "cell_type": "code",
   "execution_count": 2,
   "metadata": {},
   "outputs": [
    {
     "data": {
      "text/plain": [
       "'The nonlinear dust ion acoustic   solitary structures have been studied in a dusty plasma including of the Cairns Gurevich distribution for electrons  both negative and positive ions and immobile opposite polarity dust grains  The external magnetic field directed along the z axis is considered  By using the standard reductive perturbation technique and the hydrodynamics model for the ion fluid  the modified Zakharov Kuznetsov equation was derived for small but finite amplitude waves and was given the solitary wave solution for the parameters relevant  Using the appropriate the independent variable  we could find the modified Korteweg de Vries equation  By plotting some figures  we have discussed and emphasized that how the different plasma values such as the trapping parameter  the nonthermal electron parameter and the ion cyclotron frequency can influence on the solitary wave structures  Also  by means of the bifurcation theory of planar dynamical systems  we have extracted the center and saddle points and illustrated the phase portrait of such system for some particular plasma parameters  Finally  we have investigated graphically the behavior of the solitary energy wave by changing the plasma values  The results could be useful for studying the physical mechanism of nonlinear propagation of DIA solitary waves in laboratory and space plasmas where nonthermal electrons  pair ions and dust particles can be existed '"
      ]
     },
     "execution_count": 2,
     "metadata": {},
     "output_type": "execute_result"
    }
   ],
   "source": [
    "## NLP PRE-PROCESSING USING NLTK\n",
    "\n",
    "#text=\"Chhota Bheem - Happy Diwali | Diwali Special Video\"\n",
    "def nltk_clean_sent(line):\n",
    "    if len(line)>0:\n",
    "        ## remove the punctuation/html tags/multispaces with single from the line\n",
    "        line_lower = line.strip()\n",
    "        line_emots = re.sub(r'[\\u200b-\\u2fff]+',' ',line_lower)\n",
    "        #line_digis = re.sub(r'[0-9]+',' ',line_emots)\n",
    "        line_spaces = re.sub(r'[\\s]+',' ',line_emots)\n",
    "        line_punct = re.sub(r'<.*?>',' ',line_spaces)\n",
    "        line_punct1 = re.sub(r'\\(.*?\\)',' ',line_punct)\n",
    "        line_punct2 = re.sub('['+string.punctuation+']',' ',line_punct1)\n",
    "        line = line_punct2\n",
    "    return line\n",
    "\n",
    "\n",
    "def nltk_apply_lemma(line):\n",
    "    tokens_lemmas = [WordNetLemmatizer().lemmatize(word) for word in line.split()]\n",
    "    ## stemming\n",
    "    tokens_stops = [word for word in tokens_lemmas if word not in stopwords.words('english')]\n",
    "    tokens_stops = [word.lower() for word in tokens_stops if len(word.strip())>2]\n",
    "    tokens_stops = list(set(tokens_stops))\n",
    "    return tokens_stops\n",
    "\n",
    "def nltk_extract_tags(line):\n",
    "        ## tokenize the sentence/get tokens that contains only letters\n",
    "        line_clean = nltk_clean_sent(line)\n",
    "        #print(line_clean)\n",
    "        ## apply lemmatize/stemming and remove stopwords\n",
    "        #token_lemma = nltk_apply_lemma(line_clean)\n",
    "        #return list(set(token_lemma))\n",
    "        return line_clean\n",
    "\n",
    "nltk_extract_tags(text)"
   ]
  },
  {
   "cell_type": "code",
   "execution_count": 3,
   "metadata": {},
   "outputs": [
    {
     "name": "stdout",
     "output_type": "stream",
     "text": [
      "16\n"
     ]
    },
    {
     "data": {
      "image/png": "[encoded data removed]",
      "text/plain": [
       "<matplotlib.figure.Figure at 0x21ccc878940>"
      ]
     },
     "metadata": {},
     "output_type": "display_data"
    }
   ],
   "source": [
    "## FEATURE ENGINEERING USING TF-IDF\n",
    "tfidf_vectorizer = TfidfVectorizer(tokenizer=nltk_extract_tags,min_df=2,max_df=0.95,stop_words='english',use_idf=True,ngram_range=(1,2));\n",
    "vec = tfidf_vectorizer.fit(df['abstract']);   # train vec using data\n",
    "vectorized = vec.transform(df['abstract']);   # transform data using vec\n",
    "\n",
    "## CHOOSE OPTIMAL NO OF CLUSTERS\n",
    "maxVal = int(len(df)/100)\n",
    "print(maxVal)\n",
    "inertia = []\n",
    "for k in range(1, maxVal):\n",
    "    kmeans = KMeans(n_clusters=k, init='k-means++',max_iter=10,random_state=0).fit(vectorized)\n",
    "    inertia.append(np.sqrt(kmeans.inertia_))\n",
    "\n",
    "plt.plot(range(1, maxVal), inertia, marker='s');\n",
    "plt.xlabel('$k$')\n",
    "plt.ylabel('$J(C_k)$');"
   ]
  },
  {
   "cell_type": "code",
   "execution_count": 4,
   "metadata": {},
   "outputs": [
    {
     "name": "stdout",
     "output_type": "stream",
     "text": [
      "   id                                              title  \\\n",
      "0   1  Dust-Ion-Acoustic Solitary waves in a Magnetiz...   \n",
      "1   2  Acoustic absorption of solid foams with thin m...   \n",
      "\n",
      "                                            abstract  label  \n",
      "0  The nonlinear dust-ion acoustic (DIA) solitary...      1  \n",
      "1  We measured the acoustic absorption, on the 0....      2  \n",
      "(28, 3)\n",
      "(28, 3)\n",
      "   id                                       title  \\\n",
      "0   1  Subsonic Potentials in Ultra dense Plasmas   \n",
      "\n",
      "                                            abstract  \n",
      "0  The existence of the subsonic dynamic potentia...  \n"
     ]
    },
    {
     "data": {
      "text/plain": [
       "array([1, 1, 1, 1, 2, 1, 1, 1, 1, 0, 1, 0, 2, 2, 1, 1, 3, 1, 1, 1, 1, 1,\n",
       "       0, 2, 1, 0, 2, 1])"
      ]
     },
     "execution_count": 4,
     "metadata": {},
     "output_type": "execute_result"
    }
   ],
   "source": [
    "## MODEL FIT USING K-MEANS\n",
    "## no of clusters might change depend on the data that we feed in and \n",
    "## can take a call what number to chose based on the elbow method\n",
    "num_clusters = 4 # FROM ABOVE ELBOW METHOD GRAPH\n",
    "\n",
    "km = KMeans(n_clusters=num_clusters,init='k-means++',max_iter=10,random_state=0).fit(vectorized)\n",
    "clusters = km.labels_.tolist()\n",
    "df[\"label\"]=clusters\n",
    "print(df.head(n=2))\n",
    "#print(clusters)\n",
    "\n",
    "## CLEAN AND NORMALIZE TEST DATA\n",
    "df_test = pd.read_csv(source+\"/TEST_CORPUS.TXT\", delimiter = \"\\t\",names=[\"id\", \"title\", \"abstract\"],encoding='ISO-8859-1')\n",
    "print(df_test.shape)\n",
    "df_test = df_test.dropna(subset=['abstract'])\n",
    "print(df_test.shape)\n",
    "print(df_test.head(n=1))\n",
    "\n",
    "## PREDICTION TEST DATA USING UNSUPERVISED\n",
    "list2Vec = vec.transform(df_test[\"abstract\"])  # transform test data using vec\n",
    "km.predict(list2Vec)"
   ]
  },
  {
   "cell_type": "code",
   "execution_count": 5,
   "metadata": {},
   "outputs": [],
   "source": [
    "# CLUSTERING IS A KIND OF UNSUPERVISED MODEL.FROM THE ABOVE PREDICTION WE CAN'T EVALUATE THE MODEL AS WE DONT HAVE TARGET LABELS. \n",
    "# THE ONLY PARAMETER TUNING CAN BE DONE HERE IS CHOSING THE NO OF CLUSTERS and MAX_ITERATIONS THATS HOW WE CAN CHANGE THE BEHAVIOUR OF DATA.\n",
    "# THE OTHER APPROACH CAN BE USED IS SUPERVISED APPROACH WHEN WE HAVE THE LABELLED DATA.PLEASE SEE FORM THE NEXT SECTION."
   ]
  },
  {
   "cell_type": "code",
   "execution_count": 6,
   "metadata": {},
   "outputs": [
    {
     "name": "stdout",
     "output_type": "stream",
     "text": [
      "classifier name = OneVsRestClassifier(estimator=SGDClassifier(alpha=0.0001, average=False, class_weight=None, epsilon=0.1,\n",
      "       eta0=0.0, fit_intercept=True, l1_ratio=0.15,\n",
      "       learning_rate='optimal', loss='hinge', max_iter=None, n_iter=None,\n",
      "       n_jobs=1, penalty='l2', power_t=0.5, random_state=None,\n",
      "       shuffle=True, tol=None, verbose=0, warm_start=False),\n",
      "          n_jobs=1)\n",
      "Train Accuracy: 0.9873039581777446\n",
      "Test Accuracy: 0.9014925373134328\n",
      "classifier name = OneVsRestClassifier(estimator=LogisticRegression(C=0.8, class_weight=None, dual=False, fit_intercept=True,\n",
      "          intercept_scaling=1, max_iter=100, multi_class='ovr', n_jobs=1,\n",
      "          penalty='l2', random_state=0, solver='liblinear', tol=0.0001,\n",
      "          verbose=0, warm_start=False),\n",
      "          n_jobs=1)\n",
      "Train Accuracy: 0.9447348767737117\n",
      "Test Accuracy: 0.9074626865671642\n"
     ]
    }
   ],
   "source": [
    "## SUPERVISED APPROACH - CONSIDERED WE HAVE A LABELLED DATA SET (we have considered the clustered labels as targets) \n",
    "## - TRAIN/TEST THE MODEL\n",
    "warnings.filterwarnings(\"ignore\")\n",
    "from sklearn.metrics import *\n",
    "from sklearn.ensemble import *\n",
    "\n",
    "def perform(classifiers, vectorizers, train_data, test_data):\n",
    "    for classifier in classifiers:\n",
    "        print(\"classifier name =\",classifier)\n",
    "        for vectorizer in vectorizers:\n",
    "            string = ''\n",
    "            string += classifier.__class__.__name__ + ' with ' + vectorizer.__class__.__name__\n",
    "\n",
    "            # train\n",
    "            vectorize_text = vectorizer.fit_transform(train_data.abstract)\n",
    "            classifier.fit(vectorize_text, train_data.label)\n",
    "\n",
    "            # score\n",
    "            vectorize_text1 = vectorizer.transform(test_data.abstract)\n",
    "            score = classifier.score(vectorize_text1, test_data.label)\n",
    "            #string += '. Has score: ' + str(score) \n",
    "            #print(string)\n",
    "            print(\"Train Accuracy:\", accuracy_score(train_data.label, classifier.predict(vectorize_text)))\n",
    "            print(\"Test Accuracy:\", accuracy_score(test_data.label,classifier.predict(vectorize_text1)))\n",
    "#             print(\"Confusion Matrix:\", confusion_matrix(test_data.label, classifier.predict(vectorize_text1)))\n",
    "\n",
    "split = int(len(df)-len(df)/5) ## split 20% among train/test\n",
    "train = df[:split]\n",
    "test = df[split:]\n",
    "\n",
    "perform(\n",
    "    [\n",
    "        #OneVsRestClassifier(SVC(kernel='linear',C=10,gamma=0.01)),\n",
    "        OneVsRestClassifier(SGDClassifier(alpha=0.0001)),\n",
    "        OneVsRestClassifier(LogisticRegression(penalty = 'l2', C = 0.8,random_state = 0))\n",
    "    ],\n",
    "    [\n",
    "        tfidf_vectorizer\n",
    "    ],\n",
    "    train,\n",
    "    test\n",
    ")"
   ]
  },
  {
   "cell_type": "code",
   "execution_count": 7,
   "metadata": {},
   "outputs": [],
   "source": [
    "## FROM THE ABOVE ACCURACY METRICS WE CAN OBSERVE THERE IS A SLIGHT OVERFITTING HAPPENED FROM BOTH THE MODELS\n",
    "## PREFERABLE I CAN GO WITH LOGISTIC regression that has little imrovememt on prone to overfitting compare to SGD CLASSIFIER model.\n",
    "## BY HAVING MORE TRAINING DATA  and do some parameter tuning on C WE CAN FURTHUR REDUCE OVERFITTING"
   ]
  },
  {
   "cell_type": "code",
   "execution_count": 8,
   "metadata": {},
   "outputs": [
    {
     "data": {
      "image/png": "[encoded data removed]",
      "text/plain": [
       "<matplotlib.figure.Figure at 0x21cccd168d0>"
      ]
     },
     "metadata": {},
     "output_type": "display_data"
    }
   ],
   "source": [
    "## LOOK UP AUC SCORE FOR EACH OF THE TARGET CLASSES SO WE CAN WORK UPON THE CLASSES THAT ARE NOT PERFORMING WELL\n",
    "from sklearn.model_selection import train_test_split\n",
    "from sklearn.preprocessing import label_binarize\n",
    "from sklearn.metrics import roc_curve, auc\n",
    "\n",
    "X = df.abstract\n",
    "y = df.label\n",
    "\n",
    "# Binarize the output\n",
    "y = label_binarize(y, classes=[0, 1, 2,3])\n",
    "n_classes = y.shape[1]\n",
    "\n",
    "X_train, X_test, y_train, y_test = train_test_split(X, y, test_size=.2, random_state=0)\n",
    "\n",
    "\n",
    "vectorize_train = tfidf_vectorizer.fit_transform(X_train)\n",
    "vectorize_text = tfidf_vectorizer.transform(X_test)\n",
    "#classifier = OneVsRestClassifier(SVC(kernel='linear',C=10,gamma=0.01,random_state=0,probability=True))\n",
    "classifier = OneVsRestClassifier(LogisticRegression(penalty = 'l2', C = 0.8,random_state = 0))\n",
    "y_score = classifier.fit(vectorize_train, y_train).decision_function(vectorize_text)\n",
    "\n",
    "fpr = dict()\n",
    "tpr = dict()\n",
    "roc_auc = dict()\n",
    "for i in range(n_classes):\n",
    "    fpr[i], tpr[i], _ = roc_curve(y_test[:, i], y_score[:, i])\n",
    "    roc_auc[i] = auc(fpr[i], tpr[i])\n",
    "#colors = cycle(['blue', 'red', 'green'])\n",
    "colors = ['blue', 'red', 'green','orange']\n",
    "for i, color in zip(range(n_classes), colors):\n",
    "    plt.plot(fpr[i], tpr[i], color=color,\n",
    "             label='ROC curve of class {0} (area = {1:0.2f})'\n",
    "             ''.format(i, roc_auc[i]))\n",
    "plt.plot([0, 1], [0, 1], 'k--')\n",
    "plt.xlim([-0.05, 1.0])\n",
    "plt.ylim([0.0, 1.05])\n",
    "plt.xlabel('False Positive Rate')\n",
    "plt.ylabel('True Positive Rate')\n",
    "plt.title('Receiver operating characteristic for multi-class data')\n",
    "plt.legend(loc=\"lower right\")\n",
    "plt.show()"
   ]
  },
  {
   "cell_type": "code",
   "execution_count": 9,
   "metadata": {},
   "outputs": [],
   "source": [
    "## AS WE CAN SEE THE DATA LOOKS PRONE TO OVERFITTING BECAUSE WE CONSIDERED ONLY LESS SAMPLES OF DATA.\n",
    "## ON OVERALL LOGISTIC REGRESSION WITH L2 REGULARIZATION WORKS WELL WITH THIS DATA BECAUSE LOGISTIC GOOD AT REDUCING OVERFITTING.\n",
    "## ROC PROVIDES THE EVALUATION METRICS OF MULTICLASS CLASSIFICATION PROBLEM. FROM THE GRAPH WE CAN OBSERVE THAT ALL CLASSES PREDICTED\n",
    "## WELL BUT STILL IMPROVEMENT CAN BE DONE ON CLASS 0 LABEL.\n",
    "## WE CAN CONCENTRATE ON ADDING MORE DATA AND ALSO WORKS ON IMPROVING THE AUC SCORE OF CLASS 0 TARGET."
   ]
  },
  {
   "cell_type": "code",
   "execution_count": 10,
   "metadata": {},
   "outputs": [],
   "source": [
    "# km = KMeans(n_clusters=2, init='k-means++', n_init=10, max_iter=1000, tol=0.0001, precompute_distances=True, verbose=0, random_state=None, cpy_x=True, n_jobs=1)"
   ]
  }
 ],
 "metadata": {
  "kernelspec": {
   "display_name": "Python 3",
   "language": "python",
   "name": "python3"
  },
  "language_info": {
   "codemirror_mode": {
    "name": "ipython",
    "version": 3
   },
   "file_extension": ".py",
   "mimetype": "text/x-python",
   "name": "python",
   "nbconvert_exporter": "python",
   "pygments_lexer": "ipython3",
   "version": "3.6.4"
  }
 },
 "nbformat": 4,
 "nbformat_minor": 2
}
